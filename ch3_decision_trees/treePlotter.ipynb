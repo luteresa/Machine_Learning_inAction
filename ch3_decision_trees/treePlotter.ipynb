{
 "cells": [
  {
   "cell_type": "code",
   "execution_count": 17,
   "metadata": {},
   "outputs": [],
   "source": [
    "import matplotlib.pyplot as plt"
   ]
  },
  {
   "cell_type": "code",
   "execution_count": 18,
   "metadata": {},
   "outputs": [],
   "source": [
    "'''\n",
    "定义文本框和箭头格式\n",
    "'''\n",
    "decisionNode = dict(boxstyle = 'sawtooth',fc='0.8')\n",
    "leafNode = dict(boxstyle = 'round4', fc='0.8')\n",
    "#arrow_args = dict(arrowstyle='<-', connectionstyle='arc3,rad=.0')\n",
    "arrow_args = dict(arrowstyle=\"<-\")"
   ]
  },
  {
   "cell_type": "code",
   "execution_count": 21,
   "metadata": {},
   "outputs": [],
   "source": [
    "def retrieveTree(i):\n",
    "    listOfTrees =[{'no surfacing': {0: 'no', 1: {'flippers': {0: 'no', 1: 'yes'}}}},\n",
    "                  {'no surfacing': {0: 'no', 1: {'flippers': {0: {'head': {0: 'no', 1: 'yes'}}, 1: 'no'}}}}]\n",
    "    return listOfTrees[i]"
   ]
  },
  {
   "cell_type": "code",
   "execution_count": 22,
   "metadata": {},
   "outputs": [],
   "source": [
    "'''\n",
    "获取树的叶子数\n",
    "'''\n",
    "def getNumLeafs(myTree):\n",
    "    numLeafs = 0\n",
    "    firstStr = list(myTree.keys())[0]\n",
    "    #python3中myTree.keys()返回的是dict_keys,不在是list,所以不能使用myTree.keys()[0]的方法获取结点属性，可以使用list(myTree.keys())[0]\n",
    "    secondDict = myTree[firstStr]\n",
    "\n",
    "    for key in secondDict.keys():\n",
    "        if type(secondDict[key]).__name__ == 'dict':\n",
    "            numLeafs += getNumLeafs(secondDict[key])\n",
    "        else:\n",
    "            numLeafs +=1\n",
    "\n",
    "    return numLeafs"
   ]
  },
  {
   "cell_type": "code",
   "execution_count": 23,
   "metadata": {},
   "outputs": [],
   "source": [
    "'''\n",
    "获得树的深度\n",
    "'''\n",
    "def getTreeDepth(myTree):\n",
    "     maxDepth=0\n",
    "     firstStr = list(myTree.keys())[0]\n",
    "     secondDict = myTree[firstStr]\n",
    "\n",
    "     for key in secondDict.keys():\n",
    "         if type(secondDict[key]).__name__ == 'dict':\n",
    "             thisDepth = 1 + getTreeDepth(secondDict[key])\n",
    "         else:\n",
    "             thisDepth =1\n",
    "         if thisDepth > maxDepth:\n",
    "             maxDepth = thisDepth\n",
    "\n",
    "     return maxDepth\n",
    "\n"
   ]
  },
  {
   "cell_type": "code",
   "execution_count": 31,
   "metadata": {},
   "outputs": [],
   "source": [
    "\n",
    "'''\n",
    "父子节点之间填充文本信息\n",
    "'''\n",
    "def plotMidText(cntrPt, parentPt, txtString):\n",
    "    xMid = (parentPt[0]+cntrPt[0])/2.0\n",
    "    yMid = (parentPt[1]+cntrPt[1])/2.0\n",
    "    createPlot.ax1.text(xMid, yMid, txtString)\n",
    "\n"
   ]
  },
  {
   "cell_type": "code",
   "execution_count": 33,
   "metadata": {},
   "outputs": [],
   "source": [
    "'''\n",
    "绘制带箭头的注解\n",
    "'''\n",
    "def plotNode(nodeText, centerPt, parentPt,nodeType):\n",
    "    createPlot.ax1.annotate(nodeText,xy=parentPt,xycoords='axes fraction', \\\n",
    "                            xytext=centerPt, textcoords ='axes fraction',\\\n",
    "                            va='center',ha='center', \\\n",
    "                            arrowprops=arrow_args,bbox=nodeType)"
   ]
  },
  {
   "cell_type": "code",
   "execution_count": 37,
   "metadata": {},
   "outputs": [],
   "source": [
    "\n",
    "'''\n",
    "执行画树主\n",
    "'''\n",
    "def plotTree(myTree, parentPt, nodeTxt):\n",
    "    #计算宽和高\n",
    "    numLeafs = getNumLeafs(myTree)\n",
    "    depthTree = getTreeDepth(myTree)\n",
    "    firstStr = list(myTree.keys())[0]\n",
    "    cntrPt = (plotTree.xOff + (1.0+float(numLeafs))/2.0/plotTree.totalW,plotTree.yOff)\n",
    "\n",
    "    print('plotTree off:({},{}),parentPt:{},cntrPt:{}'.format(plotTree.xOff, plotTree.yOff, parentPt, cntrPt))\n",
    "\n",
    "    plotMidText(cntrPt, parentPt, nodeTxt)\n",
    "    plotNode(firstStr, cntrPt, parentPt, decisionNode)\n",
    "    #以上完成画树的根节点，及上层的箭头注释\n",
    "    \n",
    "    #根节点的每个子节点都是一个字典\n",
    "    secondDict = myTree[firstStr]\n",
    "    plotTree.yOff -= 1.0/plotTree.totalD\n",
    "    for key in secondDict.keys():\n",
    "        if type(secondDict[key]).__name__ == 'dict':\n",
    "            plotTree((secondDict[key]),cntrPt,str(key))\n",
    "        else:\n",
    "            plotTree.xOff += 1.0/plotTree.totalW\n",
    "            plotNode(secondDict[key],(plotTree.xOff, plotTree.yOff),cntrPt, leafNode)\n",
    "            plotMidText((plotTree.xOff,plotTree.yOff),cntrPt,str(key))\n",
    "    plotTree.yOff = plotTree.yOff + 1.0/plotTree.totalD\n"
   ]
  },
  {
   "cell_type": "code",
   "execution_count": 39,
   "metadata": {},
   "outputs": [],
   "source": [
    "'''\n",
    "画树\n",
    "'''\n",
    "def createPlot(inTree):\n",
    "    fig = plt.figure(1,facecolor='white')\n",
    "    fig.clf()\n",
    "    axprops = dict(xticks=[], yticks=[])\n",
    "\n",
    "    createPlot.ax1 = plt.subplot(111,frameon=False,**axprops)\n",
    "    #createPlot.ax1.set_ylim(0, 1)\n",
    "    #createPlot.ax1.set_xlim(0, 1)\n",
    "\n",
    "    plotTree.totalW = float(getNumLeafs(inTree)*4)\n",
    "    plotTree.totalD = float(getTreeDepth(inTree)*4)\n",
    "\n",
    "    plotTree.xOff = -0.5/plotTree.totalW\n",
    "    plotTree.yOff = 1.0\n",
    "\n",
    "    plotTree(inTree,(0.5,1.0),'')\n",
    "\n",
    "    plt.show()"
   ]
  },
  {
   "cell_type": "code",
   "execution_count": 40,
   "metadata": {},
   "outputs": [
    {
     "name": "stdout",
     "output_type": "stream",
     "text": [
      "{'no surfacing': {0: 'no', 1: {'flippers': {0: {'head': {0: 'no', 1: 'yes'}}, 1: 'no'}}}}\n",
      "leaf: 4\n",
      "depth: 3\n",
      "plotTree off:(-0.125,1.0),parentPt:(0.5, 1.0),cntrPt:(0.5, 1.0)\n",
      "plotTree off:(0.125,0.6666666666666667),parentPt:(0.5, 1.0),cntrPt:(0.625, 0.6666666666666667)\n",
      "plotTree off:(0.125,0.3333333333333334),parentPt:(0.625, 0.6666666666666667),cntrPt:(0.5, 0.3333333333333334)\n"
     ]
    },
    {
     "data": {
      "image/png": "[encoded data removed]",
      "text/plain": [
       "<Figure size 432x288 with 1 Axes>"
      ]
     },
     "metadata": {},
     "output_type": "display_data"
    }
   ],
   "source": [
    "'''\n",
    "myTree = retrieveTree(1)\n",
    "    #myTree = {'no surfaceing':{0:'no',1:{'flippers':{0:'no',1:'yes'}},3:'maybe'}}\n",
    "print(myTree)\n",
    "print('leaf:',getNumLeafs(myTree))\n",
    "print('depth:',getTreeDepth(myTree))\n",
    "\n",
    "createPlot(myTree)\n",
    "'''"
   ]
  }
 ],
 "metadata": {
  "kernelspec": {
   "display_name": "Python 3",
   "language": "python",
   "name": "python3"
  },
  "language_info": {
   "codemirror_mode": {
    "name": "ipython",
    "version": 3
   },
   "file_extension": ".py",
   "mimetype": "text/x-python",
   "name": "python",
   "nbconvert_exporter": "python",
   "pygments_lexer": "ipython3",
   "version": "3.6.5"
  }
 },
 "nbformat": 4,
 "nbformat_minor": 2
}
