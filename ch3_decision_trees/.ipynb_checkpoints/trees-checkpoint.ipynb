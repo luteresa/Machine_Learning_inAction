{
 "cells": [
  {
   "cell_type": "code",
   "execution_count": 6,
   "metadata": {},
   "outputs": [],
   "source": [
    "from math import  log\n",
    "import operator"
   ]
  },
  {
   "cell_type": "code",
   "execution_count": 16,
   "metadata": {},
   "outputs": [],
   "source": [
    "def createDataSet():\n",
    "    dataSet = [[1,1,1,'yes'],\n",
    "               [1,1,0,'yes'],\n",
    "               [1,0,1,'no'],\n",
    "               [0,1,0,'no'],\n",
    "               [0,1,1,'no']]\n",
    "    labels = ['no surfacing', 'flippers']\n",
    "    return dataSet, labels    "
   ]
  },
  {
   "cell_type": "code",
   "execution_count": 8,
   "metadata": {},
   "outputs": [],
   "source": [
    "'''\n",
    "func: 计算数据集的香农熵\n",
    "\n",
    "dataSet: 传入数据集\n",
    "\n",
    "return: 香农熵\n",
    "'''\n",
    "def calcShannonEnt(dataSet):\n",
    "    numEntries = len(dataSet)#获取数据集条目数量\n",
    "\n",
    "    #建立标签字典\n",
    "    labelCounts = {}\n",
    "\n",
    "    # 计算每个标签出现的次数\n",
    "    for featVec in dataSet:\n",
    "        currentLabel = featVec[-1]\n",
    "        if currentLabel not in labelCounts.keys():\n",
    "            labelCounts[currentLabel] = 0\n",
    "        labelCounts[currentLabel] += 1\n",
    "    shannonEnt = 0.0\n",
    "\n",
    "\n",
    "    #使用标签发生频率计算类别出现的概率\n",
    "    #p(xi) = labelCounts[key]/numEntries\n",
    "    #信息定义l(xi) = -log(p(xi),2)\n",
    "    #print('labelCounts:',labelCounts)\n",
    "    for key in labelCounts:\n",
    "        prob = float(labelCounts[key])/numEntries\n",
    "        shannonEnt -= prob*log(prob,2) # 所有类别信息期望就是熵\n",
    "    return shannonEnt"
   ]
  },
  {
   "cell_type": "code",
   "execution_count": 9,
   "metadata": {},
   "outputs": [],
   "source": [
    "'''\n",
    "func: 划分数据集(按给定的特征及对应特征值，返回数据子集)\n",
    "\n",
    "dataSet: 待划分数据集\n",
    "axis: 划分数据集的特征序列号\n",
    "value: 需要返回的特征值(符合该条件则筛选出，返回)\n",
    "\n",
    "return: 根据传入参数划分的数据子集\n",
    "'''\n",
    "def splitDataSet(dataSet, axis,value):\n",
    "    retDataSet = []\n",
    "    for featVec in dataSet:\n",
    "        if featVec[axis] == value:\n",
    "            #print(featVec)\n",
    "            reducedFeatVec = featVec[:axis]\n",
    "            reducedFeatVec.extend(featVec[axis+1:])\n",
    "            retDataSet.append(reducedFeatVec)\n",
    "    return retDataSet"
   ]
  },
  {
   "cell_type": "code",
   "execution_count": 11,
   "metadata": {},
   "outputs": [],
   "source": [
    "'''\n",
    "func: 选择最好的数据集划分方式\n",
    "'''\n",
    "def chooseBestFeatureToSplit(dataSet):\n",
    "    #获取数据集的特征值个数\n",
    "    numFeatures = len(dataSet[0])-1\n",
    "    #计算原始香农熵，保存最初的无序度量值\n",
    "    baseEntropy = calcShannonEnt(dataSet)\n",
    "\n",
    "    bestInfoGain = 0.0\n",
    "    bestFeature = -1\n",
    "\n",
    "    #遍历数据集中所有特征\n",
    "    for i in range(numFeatures):\n",
    "        #获取dataSet中所有元素的第i个特征\n",
    "        featList = [example[i] for example in dataSet]\n",
    "        #去重\n",
    "        uniqueVals = set(featList)\n",
    "        #print('---index_', i, uniqueVals)\n",
    "        newEntroy =0.0\n",
    "\n",
    "        #遍历所有唯一特征值，\n",
    "        for value in uniqueVals:\n",
    "            #获得特征值value的子序列划分\n",
    "            subDataSet = splitDataSet(dataSet,i,value)\n",
    "\n",
    "            #求得子集的概率\n",
    "            prob = len(subDataSet)/float(len(dataSet))\n",
    "            #求出dataSet在第i个特征上的条件熵\n",
    "            newEntroy += prob*calcShannonEnt(subDataSet)\n",
    "\n",
    "        #信息增益 = 熵-条件熵\n",
    "        infoGain = baseEntropy - newEntroy\n",
    "        if (infoGain > bestInfoGain):\n",
    "            bestInfoGain = infoGain\n",
    "            bestFeature = i\n",
    "\n",
    "    return bestFeature"
   ]
  },
  {
   "cell_type": "code",
   "execution_count": 12,
   "metadata": {},
   "outputs": [],
   "source": [
    "'''\n",
    "func: 统计类列表各类个数\n",
    "'''\n",
    "def majorityCnt(classList):\n",
    "    classCount = {}\n",
    "    for vote in classCount:\n",
    "        if vote not in classCount.keys():\n",
    "            classCount[vote]=0\n",
    "        classCount[vote] += 1\n",
    "    sortedClassCount = sorted(classCount.iteritems,key=operator.itemgetter(1),reversed=True)\n",
    "\n",
    "    return sortedClassCount[0][0]"
   ]
  },
  {
   "cell_type": "code",
   "execution_count": 13,
   "metadata": {},
   "outputs": [],
   "source": [
    "def createTree(dataSet, labels):\n",
    "    classList = [example[-1] for example in dataSet]\n",
    "    #print('-'*88)\n",
    "    #print(classList)\n",
    "    #classList[0]元素的个数，与列表长度相等，即类别完全相同\n",
    "    if classList.count(classList[0]) == len(classList):\n",
    "        return classList[0]\n",
    "    if len(dataSet[0]) == 1:\n",
    "        return majorityCnt(classList)\n",
    "\n",
    "    bestFeat = chooseBestFeatureToSplit(dataSet)\n",
    "    bestFeatLabel = labels[bestFeat]\n",
    "    myTree = {bestFeatLabel:{}}\n",
    "    del(labels[bestFeat])\n",
    "    featValues = [example[bestFeat] for example in dataSet]\n",
    "    print(featValues)\n",
    "    uniqueVals = set(featValues)\n",
    "    for value in uniqueVals:\n",
    "        subLabels = labels[:]\n",
    "        myTree[bestFeatLabel][value] = createTree(splitDataSet(dataSet,bestFeat,value),subLabels)\n",
    "\n",
    "    return myTree"
   ]
  },
  {
   "cell_type": "code",
   "execution_count": null,
   "metadata": {},
   "outputs": [],
   "source": [
    "def classify(inputTree, featLabel, testVec):\n",
    "    firstStr = list(inputTree.keys())[0]\n",
    "    print(firstStr)\n",
    "    secondDict = inputTree[firstStr]\n",
    "    featIndex = featLabel.index(firstStr)\n",
    "    for key in secondDict.keys():\n",
    "        if testVec[featIndex] == key:\n",
    "            if type(secondDict[key]).__name__ =='dict':\n",
    "                classLabel = classify(secondDict[key],featLabel,testVec)\n",
    "            else:\n",
    "                classLabel = secondDict[key]\n",
    "    return classLabel"
   ]
  },
  {
   "cell_type": "code",
   "execution_count": 14,
   "metadata": {},
   "outputs": [],
   "source": [
    "def storeTree(inputTree, filename):\n",
    "    import pickle\n",
    "    fw = open(filename,'wb')\n",
    "    pickle.dump(inputTree,fw)\n",
    "    fw.close()\n",
    "\n",
    "def grabTree(filename):\n",
    "    import pickle\n",
    "    fr = open(filename,'rb')\n",
    "    \n",
    "    return pickle.load(fr)\n",
    "\n"
   ]
  },
  {
   "cell_type": "code",
   "execution_count": 15,
   "metadata": {},
   "outputs": [
    {
     "ename": "FileNotFoundError",
     "evalue": "[Errno 2] No such file or directory: 'yuTree.txt'",
     "output_type": "error",
     "traceback": [
      "\u001b[1;31m---------------------------------------------------------------------------\u001b[0m",
      "\u001b[1;31mFileNotFoundError\u001b[0m                         Traceback (most recent call last)",
      "\u001b[1;32m<ipython-input-15-80dcdb8b3776>\u001b[0m in \u001b[0;36m<module>\u001b[1;34m()\u001b[0m\n\u001b[0;32m     32\u001b[0m \u001b[1;32mif\u001b[0m \u001b[0m__name__\u001b[0m \u001b[1;33m==\u001b[0m \u001b[1;34m'__main__'\u001b[0m\u001b[1;33m:\u001b[0m\u001b[1;33m\u001b[0m\u001b[0m\n\u001b[0;32m     33\u001b[0m     \u001b[1;31m#main()\u001b[0m\u001b[1;33m\u001b[0m\u001b[1;33m\u001b[0m\u001b[0m\n\u001b[1;32m---> 34\u001b[1;33m     \u001b[0mtest2\u001b[0m\u001b[1;33m(\u001b[0m\u001b[1;33m)\u001b[0m\u001b[1;33m\u001b[0m\u001b[0m\n\u001b[0m",
      "\u001b[1;32m<ipython-input-15-80dcdb8b3776>\u001b[0m in \u001b[0;36mtest2\u001b[1;34m()\u001b[0m\n\u001b[0;32m     26\u001b[0m \u001b[1;33m\u001b[0m\u001b[0m\n\u001b[0;32m     27\u001b[0m \u001b[1;32mdef\u001b[0m \u001b[0mtest2\u001b[0m\u001b[1;33m(\u001b[0m\u001b[1;33m)\u001b[0m\u001b[1;33m:\u001b[0m\u001b[1;33m\u001b[0m\u001b[0m\n\u001b[1;32m---> 28\u001b[1;33m     \u001b[0mmyTree\u001b[0m \u001b[1;33m=\u001b[0m \u001b[0mgrabTree\u001b[0m\u001b[1;33m(\u001b[0m\u001b[1;34m'yuTree.txt'\u001b[0m\u001b[1;33m)\u001b[0m\u001b[1;33m\u001b[0m\u001b[0m\n\u001b[0m\u001b[0;32m     29\u001b[0m     \u001b[0mprint\u001b[0m\u001b[1;33m(\u001b[0m\u001b[0mmyTree\u001b[0m\u001b[1;33m)\u001b[0m\u001b[1;33m\u001b[0m\u001b[0m\n\u001b[0;32m     30\u001b[0m \u001b[1;33m\u001b[0m\u001b[0m\n",
      "\u001b[1;32m<ipython-input-14-b40483ad0e91>\u001b[0m in \u001b[0;36mgrabTree\u001b[1;34m(filename)\u001b[0m\n\u001b[0;32m      7\u001b[0m \u001b[1;32mdef\u001b[0m \u001b[0mgrabTree\u001b[0m\u001b[1;33m(\u001b[0m\u001b[0mfilename\u001b[0m\u001b[1;33m)\u001b[0m\u001b[1;33m:\u001b[0m\u001b[1;33m\u001b[0m\u001b[0m\n\u001b[0;32m      8\u001b[0m     \u001b[1;32mimport\u001b[0m \u001b[0mpickle\u001b[0m\u001b[1;33m\u001b[0m\u001b[0m\n\u001b[1;32m----> 9\u001b[1;33m     \u001b[0mfr\u001b[0m \u001b[1;33m=\u001b[0m \u001b[0mopen\u001b[0m\u001b[1;33m(\u001b[0m\u001b[0mfilename\u001b[0m\u001b[1;33m,\u001b[0m\u001b[1;34m'rb'\u001b[0m\u001b[1;33m)\u001b[0m\u001b[1;33m\u001b[0m\u001b[0m\n\u001b[0m\u001b[0;32m     10\u001b[0m \u001b[1;33m\u001b[0m\u001b[0m\n\u001b[0;32m     11\u001b[0m     \u001b[1;32mreturn\u001b[0m \u001b[0mpickle\u001b[0m\u001b[1;33m.\u001b[0m\u001b[0mload\u001b[0m\u001b[1;33m(\u001b[0m\u001b[0mfr\u001b[0m\u001b[1;33m)\u001b[0m\u001b[1;33m\u001b[0m\u001b[0m\n",
      "\u001b[1;31mFileNotFoundError\u001b[0m: [Errno 2] No such file or directory: 'yuTree.txt'"
     ]
    }
   ],
   "source": [
    "def main():\n",
    "    myDat,labels1 = createDataSet()\n",
    "    labels2 = labels1[:]\n",
    "    #myDat[0][-1] = 'maybe'\n",
    "    print(myDat)\n",
    "    print('labels1:', labels1)\n",
    "    print('Shannon:',calcShannonEnt(myDat))\n",
    "\n",
    "    #print(splitDataSet(myDat,2,1))\n",
    "    #print(chooseBestFeatureToSplit(myDat))\n",
    "    yuTree = createTree(myDat,labels1)\n",
    "    print('labels2:', labels2)\n",
    "    print(yuTree)\n",
    "    print('='*88)\n",
    "    testVec = [0,1,0]\n",
    "    print('labels2:',labels2)\n",
    "\n",
    "    label = classify(yuTree,labels2,testVec)\n",
    "    print('testVec:{}-->{}'.format(testVec,label))\n",
    "    print('='*88)\n",
    "    print(yuTree)\n",
    "    storeTree(yuTree,'yuTree.txt')\n",
    "\n",
    "\n",
    "\n",
    "\n",
    "def test2():\n",
    "    myTree = grabTree('yuTree.txt')\n",
    "    print(myTree)\n",
    "\n",
    "\n",
    "if __name__ == '__main__':\n",
    "    #main()\n",
    "    test2()"
   ]
  },
  {
   "cell_type": "code",
   "execution_count": null,
   "metadata": {},
   "outputs": [],
   "source": [
    " "
   ]
  }
 ],
 "metadata": {
  "kernelspec": {
   "display_name": "Python 3",
   "language": "python",
   "name": "python3"
  },
  "language_info": {
   "codemirror_mode": {
    "name": "ipython",
    "version": 3
   },
   "file_extension": ".py",
   "mimetype": "text/x-python",
   "name": "python",
   "nbconvert_exporter": "python",
   "pygments_lexer": "ipython3",
   "version": "3.6.5"
  }
 },
 "nbformat": 4,
 "nbformat_minor": 2
}
