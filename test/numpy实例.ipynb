{
 "cells": [
  {
   "cell_type": "markdown",
   "metadata": {},
   "source": [
    "# Numpy演示程序"
   ]
  },
  {
   "cell_type": "code",
   "execution_count": 7,
   "metadata": {},
   "outputs": [],
   "source": [
    "import numpy as np"
   ]
  },
  {
   "cell_type": "markdown",
   "metadata": {},
   "source": [
    "定义函数sum\n",
    "np.arange():创建一个一维数组"
   ]
  },
  {
   "cell_type": "code",
   "execution_count": 8,
   "metadata": {},
   "outputs": [
    {
     "name": "stdout",
     "output_type": "stream",
     "text": [
      "arange(5): [0 1 2 3 4]\n",
      "a: [ 0  1  4  9 16]\n",
      "b: [ 0  4  8 12 16]\n",
      "sum(5): [ 0  5 12 21 32]\n"
     ]
    }
   ],
   "source": [
    "def sum(n):\n",
    "    a=np.arange(n)**2\n",
    "    b = np.arange(n)*4\n",
    "    print(\"a:\",a)\n",
    "    print(\"b:\",b)\n",
    "    c=a+b\n",
    "    return c\n",
    "print(\"arange(5):\",np.arange(5))\n",
    "print(\"sum(5):\",sum(5))"
   ]
  },
  {
   "cell_type": "code",
   "execution_count": 13,
   "metadata": {},
   "outputs": [
    {
     "name": "stdout",
     "output_type": "stream",
     "text": [
      "[array([0, 1, 2, 3, 4]) array([0, 1, 2, 3, 4, 5])]\n"
     ]
    }
   ],
   "source": [
    "b = np.array([np.arange(5),np.arange(6)])\n",
    "print(b)"
   ]
  },
  {
   "cell_type": "code",
   "execution_count": 14,
   "metadata": {},
   "outputs": [
    {
     "name": "stdout",
     "output_type": "stream",
     "text": [
      "[0 1 2 3 4 5]\n"
     ]
    }
   ],
   "source": [
    "print(b[1])"
   ]
  },
  {
   "cell_type": "code",
   "execution_count": null,
   "metadata": {},
   "outputs": [],
   "source": []
  }
 ],
 "metadata": {
  "kernelspec": {
   "display_name": "Python 3",
   "language": "python",
   "name": "python3"
  },
  "language_info": {
   "codemirror_mode": {
    "name": "ipython",
    "version": 3
   },
   "file_extension": ".py",
   "mimetype": "text/x-python",
   "name": "python",
   "nbconvert_exporter": "python",
   "pygments_lexer": "ipython3",
   "version": "3.6.4"
  }
 },
 "nbformat": 4,
 "nbformat_minor": 2
}
